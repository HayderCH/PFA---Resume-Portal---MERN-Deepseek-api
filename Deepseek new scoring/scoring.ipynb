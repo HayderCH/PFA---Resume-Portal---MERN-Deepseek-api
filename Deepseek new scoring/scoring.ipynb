{
  "nbformat": 4,
  "nbformat_minor": 0,
  "metadata": {
    "colab": {
      "provenance": []
    },
    "kernelspec": {
      "name": "python3",
      "display_name": "Python 3"
    },
    "language_info": {
      "name": "python"
    }
  },
  "cells": [
    {
      "cell_type": "code",
      "execution_count": null,
      "metadata": {
        "colab": {
          "base_uri": "https://localhost:8080/"
        },
        "id": "am3vgkKtex6U",
        "outputId": "9527a63e-9154-4956-c28c-a3d105254303"
      },
      "outputs": [
        {
          "output_type": "stream",
          "name": "stdout",
          "text": [
            "Requirement already satisfied: tiktoken in /usr/local/lib/python3.11/dist-packages (0.9.0)\n",
            "Requirement already satisfied: regex>=2022.1.18 in /usr/local/lib/python3.11/dist-packages (from tiktoken) (2024.11.6)\n",
            "Requirement already satisfied: requests>=2.26.0 in /usr/local/lib/python3.11/dist-packages (from tiktoken) (2.32.3)\n",
            "Requirement already satisfied: charset-normalizer<4,>=2 in /usr/local/lib/python3.11/dist-packages (from requests>=2.26.0->tiktoken) (3.4.2)\n",
            "Requirement already satisfied: idna<4,>=2.5 in /usr/local/lib/python3.11/dist-packages (from requests>=2.26.0->tiktoken) (3.10)\n",
            "Requirement already satisfied: urllib3<3,>=1.21.1 in /usr/local/lib/python3.11/dist-packages (from requests>=2.26.0->tiktoken) (2.4.0)\n",
            "Requirement already satisfied: certifi>=2017.4.17 in /usr/local/lib/python3.11/dist-packages (from requests>=2.26.0->tiktoken) (2025.4.26)\n",
            "Collecting pytesseract\n",
            "  Downloading pytesseract-0.3.13-py3-none-any.whl.metadata (11 kB)\n",
            "Requirement already satisfied: packaging>=21.3 in /usr/local/lib/python3.11/dist-packages (from pytesseract) (24.2)\n",
            "Requirement already satisfied: Pillow>=8.0.0 in /usr/local/lib/python3.11/dist-packages (from pytesseract) (11.2.1)\n",
            "Downloading pytesseract-0.3.13-py3-none-any.whl (14 kB)\n",
            "Installing collected packages: pytesseract\n",
            "Successfully installed pytesseract-0.3.13\n",
            "Collecting layoutparser\n",
            "  Downloading layoutparser-0.3.4-py3-none-any.whl.metadata (7.7 kB)\n",
            "Requirement already satisfied: numpy in /usr/local/lib/python3.11/dist-packages (from layoutparser) (2.0.2)\n",
            "Requirement already satisfied: opencv-python in /usr/local/lib/python3.11/dist-packages (from layoutparser) (4.11.0.86)\n",
            "Requirement already satisfied: scipy in /usr/local/lib/python3.11/dist-packages (from layoutparser) (1.15.3)\n",
            "Requirement already satisfied: pandas in /usr/local/lib/python3.11/dist-packages (from layoutparser) (2.2.2)\n",
            "Requirement already satisfied: pillow in /usr/local/lib/python3.11/dist-packages (from layoutparser) (11.2.1)\n",
            "Requirement already satisfied: pyyaml>=5.1 in /usr/local/lib/python3.11/dist-packages (from layoutparser) (6.0.2)\n",
            "Collecting iopath (from layoutparser)\n",
            "  Downloading iopath-0.1.10.tar.gz (42 kB)\n",
            "\u001b[2K     \u001b[90m━━━━━━━━━━━━━━━━━━━━━━━━━━━━━━━━━━━━━━━━\u001b[0m \u001b[32m42.2/42.2 kB\u001b[0m \u001b[31m1.6 MB/s\u001b[0m eta \u001b[36m0:00:00\u001b[0m\n",
            "\u001b[?25h  Preparing metadata (setup.py) ... \u001b[?25l\u001b[?25hdone\n",
            "Collecting pdfplumber (from layoutparser)\n",
            "  Downloading pdfplumber-0.11.6-py3-none-any.whl.metadata (42 kB)\n",
            "\u001b[2K     \u001b[90m━━━━━━━━━━━━━━━━━━━━━━━━━━━━━━━━━━━━━━━━\u001b[0m \u001b[32m42.8/42.8 kB\u001b[0m \u001b[31m1.5 MB/s\u001b[0m eta \u001b[36m0:00:00\u001b[0m\n",
            "\u001b[?25hCollecting pdf2image (from layoutparser)\n",
            "  Downloading pdf2image-1.17.0-py3-none-any.whl.metadata (6.2 kB)\n",
            "Requirement already satisfied: tqdm in /usr/local/lib/python3.11/dist-packages (from iopath->layoutparser) (4.67.1)\n",
            "Requirement already satisfied: typing_extensions in /usr/local/lib/python3.11/dist-packages (from iopath->layoutparser) (4.13.2)\n",
            "Collecting portalocker (from iopath->layoutparser)\n",
            "  Downloading portalocker-3.1.1-py3-none-any.whl.metadata (8.6 kB)\n",
            "Requirement already satisfied: python-dateutil>=2.8.2 in /usr/local/lib/python3.11/dist-packages (from pandas->layoutparser) (2.9.0.post0)\n",
            "Requirement already satisfied: pytz>=2020.1 in /usr/local/lib/python3.11/dist-packages (from pandas->layoutparser) (2025.2)\n",
            "Requirement already satisfied: tzdata>=2022.7 in /usr/local/lib/python3.11/dist-packages (from pandas->layoutparser) (2025.2)\n",
            "Collecting pdfminer.six==20250327 (from pdfplumber->layoutparser)\n",
            "  Downloading pdfminer_six-20250327-py3-none-any.whl.metadata (4.1 kB)\n",
            "Collecting pypdfium2>=4.18.0 (from pdfplumber->layoutparser)\n",
            "  Downloading pypdfium2-4.30.1-py3-none-manylinux_2_17_x86_64.manylinux2014_x86_64.whl.metadata (48 kB)\n",
            "\u001b[2K     \u001b[90m━━━━━━━━━━━━━━━━━━━━━━━━━━━━━━━━━━━━━━━━\u001b[0m \u001b[32m48.2/48.2 kB\u001b[0m \u001b[31m3.2 MB/s\u001b[0m eta \u001b[36m0:00:00\u001b[0m\n",
            "\u001b[?25hRequirement already satisfied: charset-normalizer>=2.0.0 in /usr/local/lib/python3.11/dist-packages (from pdfminer.six==20250327->pdfplumber->layoutparser) (3.4.2)\n",
            "Requirement already satisfied: cryptography>=36.0.0 in /usr/local/lib/python3.11/dist-packages (from pdfminer.six==20250327->pdfplumber->layoutparser) (43.0.3)\n",
            "Requirement already satisfied: six>=1.5 in /usr/local/lib/python3.11/dist-packages (from python-dateutil>=2.8.2->pandas->layoutparser) (1.17.0)\n",
            "Requirement already satisfied: cffi>=1.12 in /usr/local/lib/python3.11/dist-packages (from cryptography>=36.0.0->pdfminer.six==20250327->pdfplumber->layoutparser) (1.17.1)\n",
            "Requirement already satisfied: pycparser in /usr/local/lib/python3.11/dist-packages (from cffi>=1.12->cryptography>=36.0.0->pdfminer.six==20250327->pdfplumber->layoutparser) (2.22)\n",
            "Downloading layoutparser-0.3.4-py3-none-any.whl (19.2 MB)\n",
            "\u001b[2K   \u001b[90m━━━━━━━━━━━━━━━━━━━━━━━━━━━━━━━━━━━━━━━━\u001b[0m \u001b[32m19.2/19.2 MB\u001b[0m \u001b[31m22.2 MB/s\u001b[0m eta \u001b[36m0:00:00\u001b[0m\n",
            "\u001b[?25hDownloading pdf2image-1.17.0-py3-none-any.whl (11 kB)\n",
            "Downloading pdfplumber-0.11.6-py3-none-any.whl (60 kB)\n",
            "\u001b[2K   \u001b[90m━━━━━━━━━━━━━━━━━━━━━━━━━━━━━━━━━━━━━━━━\u001b[0m \u001b[32m60.2/60.2 kB\u001b[0m \u001b[31m4.2 MB/s\u001b[0m eta \u001b[36m0:00:00\u001b[0m\n",
            "\u001b[?25hDownloading pdfminer_six-20250327-py3-none-any.whl (5.6 MB)\n",
            "\u001b[2K   \u001b[90m━━━━━━━━━━━━━━━━━━━━━━━━━━━━━━━━━━━━━━━━\u001b[0m \u001b[32m5.6/5.6 MB\u001b[0m \u001b[31m71.4 MB/s\u001b[0m eta \u001b[36m0:00:00\u001b[0m\n",
            "\u001b[?25hDownloading pypdfium2-4.30.1-py3-none-manylinux_2_17_x86_64.manylinux2014_x86_64.whl (2.9 MB)\n",
            "\u001b[2K   \u001b[90m━━━━━━━━━━━━━━━━━━━━━━━━━━━━━━━━━━━━━━━━\u001b[0m \u001b[32m2.9/2.9 MB\u001b[0m \u001b[31m63.8 MB/s\u001b[0m eta \u001b[36m0:00:00\u001b[0m\n",
            "\u001b[?25hDownloading portalocker-3.1.1-py3-none-any.whl (19 kB)\n",
            "Building wheels for collected packages: iopath\n",
            "  Building wheel for iopath (setup.py) ... \u001b[?25l\u001b[?25hdone\n",
            "  Created wheel for iopath: filename=iopath-0.1.10-py3-none-any.whl size=31527 sha256=1c3f3c2575f1352d2ce8af41941dcde78724897c1065ce281ec04b371ce72fcb\n",
            "  Stored in directory: /root/.cache/pip/wheels/ba/5e/16/6117f8fe7e9c0c161a795e10d94645ebcf301ccbd01f66d8ec\n",
            "Successfully built iopath\n",
            "Installing collected packages: pypdfium2, portalocker, pdf2image, iopath, pdfminer.six, pdfplumber, layoutparser\n",
            "Successfully installed iopath-0.1.10 layoutparser-0.3.4 pdf2image-1.17.0 pdfminer.six-20250327 pdfplumber-0.11.6 portalocker-3.1.1 pypdfium2-4.30.1\n",
            "ChatCompletion(id='gen-1747682889-dhQ0w45jpW8EobDS0HSy', choices=[Choice(finish_reason='stop', index=0, logprobs=None, message=ChatCompletionMessage(content='```json\\n{\\n  \"personal_info\": {\\n    \"full_name\": \"Ikram Menyaoui\",\\n    \"email\": \"Menyaouiikram@gmail.com\",\\n    \"phone\": \"26269509\",\\n    \"linkedin_url\": null,\\n    \"portfolio_url\": null,\\n    \"address\": {\\n      \"street\": \"4, cité Elomrane\",\\n      \"city\": \"Monastir\",\\n      \"state_province\": null,\\n      \"postal_code\": null,\\n      \"country\": \"Tunisia\"\\n    }\\n  },\\n  \"summary_objective\": \"Recherche des opportunités pour valoriser créativité et compétences organisationnelles.\",\\n  \"experience\": [\\n    {\\n      \"job_title\": \"Promotrice de produits\",\\n      \"company_name\": \"Henkel Alki\",\\n      \"company_location\": \"Grand Tunis\",\\n      \"start_date\": \"2021-11\",\\n      \"end_date\": \"2023-05\",\\n      \"duration_months\": 18,\\n      \"responsibilities\": [\\n        \"Promotion de produits détergents et cosmétiques dans les grandes surfaces du Grand Tunis\"\\n      ],\\n      \"achievements\": [],\\n      \"skill_used\": [\"Marketing\", \"Vente\"]\\n    },\\n    {\\n      \"job_title\": \"Responsable Data\",\\n      \"company_name\": \"Ventreprise\",\\n      \"company_location\": null,\\n      \"start_date\": \"2021-07\",\\n      \"end_date\": \"2021-11\",\\n      \"duration_months\": 4,\\n      \"responsibilities\": [\\n        \"Réalisation de la base de données pour la prise de décision et la communication\"\\n      ],\\n      \"achievements\": [],\\n      \"skill_used\": [\"Gestion de données\", \"Analyse\"]\\n    }\\n  ],\\n  \"education\": [\\n    {\\n      \"institution_name\": \"ESPRIT\",\\n      \"degree_name\": \"Cycle Ingénierie en Informatique\",\\n      \"field_of_study\": \"Informatique\",\\n      \"graduation_date\": \"2026\",\\n      \"gpa\": null,\\n      \"relevant_course\": [],\\n      \"honors_award\": []\\n    },\\n    {\\n      \"institution_name\": \"FSEG\",\\n      \"degree_name\": \"Licence en Informatique de Gestion\",\\n      \"field_of_study\": \"Informatique de Gestion\",\\n      \"graduation_date\": \"2021\",\\n      \"gpa\": null,\\n      \"relevant_course\": [],\\n      \"honors_award\": []\\n    }\\n  ],\\n  \"skill_section\": {\\n    \"technical_skill\": [\\n      {\\n        \"skill_name\": \"Développement Web\",\\n        \"proficiency_level\": null\\n      },\\n      {\\n        \"skill_name\": \"Gestion de données\",\\n        \"proficiency_level\": null\\n      }\\n    ],\\n    \"soft_skill\": [\"Gestion d\\'événements\", \"Planification de projet\"],\\n    \"tool_platform\": [\"Laravel\", \"MySQL\", \"HTML\", \"JavaScript\", \"CSS\", \"PHP\", \"Java\", \"JavaFX\"],\\n    \"language\": [\\n      {\\n        \"language_name\": \"Français\",\\n        \"proficiency\": null\\n      },\\n      {\\n        \"language_name\": \"Anglais\",\\n        \"proficiency\": null\\n      }\\n    ],\\n    \"other_skill\": []\\n  },\\n  \"project\": [\\n    {\\n      \"project_name\": \"Application d\\'agence de tourisme médical\",\\n      \"description\": \"Développement d\\'une application pour une agence de tourisme médical accessible via web et desktop.\",\\n      \"technology_used\": [\"Laravel\", \"MySQL\", \"HTML\", \"JavaScript\", \"CSS\", \"PHP\", \"Java\", \"JavaFX\"],\\n      \"project_url\": null,\\n      \"repository_url\": null,\\n      \"start_date\": null,\\n      \"end_date\": null\\n    }\\n  ],\\n  \"certification_license\": [],\\n  \"award_recognition\": [],\\n  \"publication_presentation\": [],\\n  \"cv_analysis\": {\\n    \"identified_industry\": \"Informatique\",\\n    \"section_score\": {\\n      \"education_score\": 70,\\n      \"experience_score\": 60,\\n      \"skill_score\": 65,\\n      \"project_score\": 70,\\n      \"certification_score\": 0\\n    },\\n    \"overall_cv_score\": 65,\\n    \"score_reasoning\": \"Le candidat a une formation solide en informatique et une expérience variée, mais manque de certifications et d\\'expérience approfondie dans des rôles techniques avancés.\",\\n    \"market_alignment_note\": \"Les compétences en développement web et gestion de données sont pertinentes pour le marché de l\\'informatique, mais une spécialisation plus poussée dans des technologies modernes serait bénéfique.\"\\n  }\\n}\\n```', refusal=None, role='assistant', annotations=None, audio=None, function_call=None, tool_calls=None, reasoning=None), native_finish_reason='stop')], created=1747682890, model='deepseek/deepseek-chat-v3-0324:free', object='chat.completion', service_tier=None, system_fingerprint=None, usage=CompletionUsage(completion_tokens=1026, prompt_tokens=2784, total_tokens=3810, completion_tokens_details=None, prompt_tokens_details=None), provider='Targon')\n",
            "Saved JSON to /content/json_extractions/userprofile.json\n"
          ]
        }
      ],
      "source": [
        "#!pip install tiktoken\n",
        "#!pip install pytesseract\n",
        "#!pip install layoutparser\n",
        "\n",
        "from LLMInit import OpenRouterChatClient\n",
        "from ResponseToJson import JSONExtractor\n",
        "\n",
        "client = OpenRouterChatClient()\n",
        "response = client.chat(open(\"/content/scoring_prompts/main_scoring_prompt.txt\", 'r').read(), image_files=[\"/content/Ikram Menyaoui-CV (2)_page-0001.jpg\"])\n",
        "\n",
        "JsonExtractor = JSONExtractor(output_dir='/content/json_extractions', forced_name = \"UserProfile\")\n",
        "blocks = JsonExtractor.extract_and_save(response)"
      ]
    },
    {
      "cell_type": "code",
      "source": [
        "\n",
        "response = client.chat(open(\"/content/scoring_prompts/credibility_test_generation.txt\", 'r').read(),\n",
        "\n",
        "                       text_files = [\"/content/json_extractions/userprofile.json\"])\n",
        "JsonExtractor = JSONExtractor(output_dir='/content/json_extractions', forced_name = \"GeneratedQuestions\")\n",
        "blocks = JsonExtractor.extract_and_save(response)"
      ],
      "metadata": {
        "colab": {
          "base_uri": "https://localhost:8080/"
        },
        "id": "bIC1Kn1WqYDo",
        "outputId": "ee6c81b9-ac32-4711-c8de-33a49437c4fd"
      },
      "execution_count": null,
      "outputs": [
        {
          "output_type": "stream",
          "name": "stdout",
          "text": [
            "ChatCompletion(id='gen-1747683141-fCeOBcYVtsKbPYycJCZq', choices=[Choice(finish_reason='stop', index=0, logprobs=None, message=ChatCompletionMessage(content='\\n\\n\\n```json\\n{\\n  \"interview_title\": \"Credibility Interview for Ikram Menyaoui - IT and Data Management\",\\n  \"generated_for_industry\": \"IT and Data Management\",\\n  \"interview_question\": [\\n    {\\n      \"question_id\": \"Q1\",\\n      \"category_probed\": \"Experience\",\\n      \"cv_section_reference\": \"Experience at Henkel Alki\",\\n      \"question_text\": \"Can you describe a specific challenge you faced while promoting products at Henkel Alki and how you overcame it?\",\\n      \"question_type\": \"Behavioral\",\\n      \"expected_answer_pointers\": [\\n        \"Specific example of a challenge faced during product promotion\",\\n        \"Steps taken to address the challenge\",\\n        \"Outcome of the actions taken\"\\n      ],\\n      \"note_for_assessor\": \"Look for details on problem-solving and adaptability in a sales environment.\"\\n    },\\n    {\\n      \"question_id\": \"Q2\",\\n      \"category_probed\": \"Skills\",\\n      \"cv_section_reference\": \"Skill: Data Management\",\\n      \"question_text\": \"You mentioned data management as a skill. Can you explain a project where you had to manage and analyze a large dataset?\",\\n      \"question_type\": \"Technical Deep-Dive\",\\n      \"expected_answer_pointers\": [\\n        \"Description of the dataset and its size\",\\n        \"Tools and techniques used for management and analysis\",\\n        \"Key insights or decisions made based on the data\"\\n      ],\\n      \"note_for_assessor\": \"Assess the depth of technical knowledge in data handling and analysis.\"\\n    },\\n    {\\n      \"question_id\": \"Q3\",\\n      \"category_probed\": \"Project\",\\n      \"cv_section_reference\": \"Project: Medical Tourism Agency Application\",\\n      \"question_text\": \"What were the main technical challenges you encountered while developing the medical tourism agency application and how did you address them?\",\\n      \"question_type\": \"Project-Specific\",\\n      \"expected_answer_pointers\": [\\n        \"Specific technical issues faced during development\",\\n        \"Solutions implemented to resolve these issues\",\\n        \"Impact of these solutions on the project\\'s success\"\\n      ],\\n      \"note_for_assessor\": \"Focus on problem-solving and technical proficiency in web and desktop application development.\"\\n    },\\n    {\\n      \"question_id\": \"Q4\",\\n      \"category_probed\": \"Experience\",\\n      \"cv_section_reference\": \"Experience at Ventreprise\",\\n      \"question_text\": \"How did you ensure the accuracy and reliability of the data in the database you created at Ventreprise?\",\\n      \"question_type\": \"Technical Deep-Dive\",\\n      \"expected_answer_pointers\": [\\n        \"Methods used for data validation and verification\",\\n        \"Tools or software utilized for database management\",\\n        \"Any challenges in maintaining data integrity and how they were addressed\"\\n      ],\\n      \"note_for_assessor\": \"Evaluate the candidate\\'s attention to detail and technical skills in database management.\"\\n    },\\n    {\\n      \"question_id\": \"Q5\",\\n      \"category_probed\": \"Skills\",\\n      \"cv_section_reference\": \"Skill: Web Development\",\\n      \"question_text\": \"Can you compare the use of Laravel and Java in your projects and explain why you chose each for specific tasks?\",\\n      \"question_type\": \"Technical Deep-Dive\",\\n      \"expected_answer_pointers\": [\\n        \"Comparison of Laravel and Java in terms of functionality and use cases\",\\n        \"Specific projects where each was used and the rationale behind the choice\",\\n        \"Advantages and limitations of each in the context of the projects\"\\n      ],\\n      \"note_for_assessor\": \"Assess the candidate\\'s understanding of different programming languages and their appropriate use.\"\\n    },\\n    {\\n      \"question_id\": \"Q6\",\\n      \"category_probed\": \"Behavioral\",\\n      \"cv_section_reference\": \"Overall Experience\",\\n      \"question_text\": \"Describe a time when you had to work under tight deadlines. How did you manage your time and ensure the project\\'s success?\",\\n      \"question_type\": \"Behavioral\",\\n      \"expected_answer_pointers\": [\\n        \"Specific example of a tight deadline situation\",\\n        \"Time management strategies employed\",\\n        \"Outcome of the project and lessons learned\"\\n      ],\\n      \"note_for_assessor\": \"Look for evidence of time management, prioritization, and stress management skills.\"\\n    },\\n    {\\n      \"question_id\": \"Q7\",\\n      \"category_probed\": \"Project\",\\n      \"cv_section_reference\": \"Project: Medical Tourism Agency Application\",\\n      \"question_text\": \"How did you measure the success of the medical tourism agency application, and what metrics did you use?\",\\n      \"question_type\": \"Project-Specific\",\\n      \"expected_answer_pointers\": [\\n        \"Key performance indicators (KPIs) used to measure success\",\\n        \"Data collection and analysis methods for these metrics\",\\n        \"Results and impact of the application based on these metrics\"\\n      ],\\n      \"note_for_assessor\": \"Evaluate the candidate\\'s ability to define and measure project success.\"\\n    },\\n    {\\n      \"question_id\": \"Q8\",\\n      \"category_probed\": \"Skills\",\\n      \"cv_section_reference\": \"Skill: Event Management\",\\n      \"question_text\": \"Can you provide an example of an event you managed, detailing your planning process and the event\\'s outcome?\",\\n      \"question_type\": \"Behavioral\",\\n      \"expected_answer_pointers\": [\\n        \"Description of the event and its objectives\",\\n        \"Planning and execution steps taken\",\\n        \"Outcome and feedback from participants or stakeholders\"\\n      ],\\n      \"note_for_assessor\": \"Assess organizational and project management skills in a real-world context.\"\\n    },\\n    {\\n      \"question_id\": \"Q9\",\\n      \"category_probed\": \"Experience\",\\n      \"cv_section_reference\": \"Experience at Henkel Alki\",\\n      \"question_text\": \"How did you tailor your sales approach to different types of customers in your role at Henkel Alki?\",\\n      \"question_text\": \"Behavioral\",\\n      \"expected_answer_pointers\": [\\n        \"Different customer segments identified\",\\n        \"Customized sales strategies for each segment\",\\n        \"Effectiveness of these strategies in achieving sales goals\"\\n      ],\\n      \"note_for_assessor\": \"Look for adaptability and customer-centric approach in sales.\"\\n    },\\n    {\\n      \"question_id\": \"Q10\",\\n      \"category_probed\": \"Skills\",\\n      \"cv_section_reference\": \"Skill: Data Analysis\",\\n      \"question_text\": \"What tools or techniques do you prefer for data analysis, and why? Can you give an example of a project where you used these?\",\\n      \"question_type\": \"Technical Deep-Dive\",\\n      \"expected_answer_pointers\": [\\n        \"Preferred tools and techniques for data analysis\",\\n        \"Rationale for choosing these tools\",\\n        \"Example project demonstrating their use and effectiveness\"\\n      ],\\n      \"note_for_assessor\": \"Evaluate the candidate\\'s proficiency and rationale in choosing data analysis tools.\"\\n    }\\n  ]\\n}\\n```', refusal=None, role='assistant', annotations=None, audio=None, function_call=None, tool_calls=None, reasoning=None), native_finish_reason='stop')], created=1747683141, model='deepseek/deepseek-chat-v3-0324:free', object='chat.completion', service_tier=None, system_fingerprint=None, usage=CompletionUsage(completion_tokens=1452, prompt_tokens=7224, total_tokens=8676, completion_tokens_details=None, prompt_tokens_details=None), provider='Targon')\n",
            "Saved JSON to /content/json_extractions/json_block_1.json\n"
          ]
        }
      ]
    },
    {
      "cell_type": "code",
      "source": [
        "\n",
        "response = client.chat(open(\"/content/scoring_prompts/final_scoring_prompt.txt\", 'r').read(),\n",
        "\n",
        "                       text_files = [\"/content/json_extractions/userprofile.json\", \"/content/json_extractions/GeneratedQuestions.json\", \"/content/json_extractions/Answers.json\"])\n",
        "JsonExtractor = JSONExtractor(output_dir='/content/json_extractions', forced_name = \"FinalUserProfile\")\n",
        "blocks = JsonExtractor.extract_and_save(response)"
      ],
      "metadata": {
        "id": "FanLSqs76C0p",
        "colab": {
          "base_uri": "https://localhost:8080/"
        },
        "outputId": "f811fae1-0cdb-4454-d27c-cfeaf08eb77c"
      },
      "execution_count": null,
      "outputs": [
        {
          "output_type": "stream",
          "name": "stdout",
          "text": [
            "ChatCompletion(id='gen-1747684748-ViAWChyN5YrN1rld6Db1', choices=[Choice(finish_reason='stop', index=0, logprobs=None, message=ChatCompletionMessage(content='```json\\n{\\n  \"cv_analysis\": {\\n    \"identified_industry\": \"IT and Data Management\",\\n    \"initial_cv_assessment\": {\\n      \"section_scores\": {\\n        \"education_score\": 70,\\n        \"experience_score\": 60,\\n        \"skill_score\": 65,\\n        \"project_score\": 70,\\n        \"certification_score\": 0\\n      },\\n      \"overall_cv_score\": 65,\\n      \"score_reasoning\": \"Le candidat a une formation solide en informatique et une expérience variée, mais manque de certification et d\\'expérience approfondie dans des rôles techniques avancés.\",\\n      \"market_alignment_notes\": \"Les compétences en développement web et gestion de données sont pertinentes pour le marché de l\\'informatique, mais une spécialisation plus poussée dans des technologies modernes serait bénéfique.\"\\n    },\\n    \"credibility_assessment\": {\\n      \"section_credibility_scores\": {\\n        \"education_credibility\": 80,\\n        \"experience_credibility\": 70,\\n        \"skill_credibility\": 75,\\n        \"project_credibility\": 80,\\n        \"certification_credibility\": 0\\n      },\\n      \"overall_credibility_score\": 75,\\n      \"credibility_summary_reasoning\": \"Les réponses du candidat confirment une bonne compréhension des sujets techniques, mais certaines réponses manquent de détails spécifiques, ce qui limite la crédibilité dans certaines sections.\"\\n    },\\n    \"final_validated_scores\": {\\n      \"final_section_scores\": {\\n        \"final_education_score\": 56,\\n        \"final_experience_score\": 42,\\n        \"final_skill_score\": 49,\\n        \"final_project_score\": 56,\\n        \"final_certification_score\": 0\\n      },\\n      \"overall_final_score\": 49,\\n      \"final_score_summary_reasoning\": \"Les scores finaux reflètent une validation partielle des compétences et expériences, avec des lacunes notables dans les certifications et certaines réponses manquant de profondeur technique.\"\\n    }\\n  }\\n}\\n```', refusal=None, role='assistant', annotations=None, audio=None, function_call=None, tool_calls=None, reasoning=None), native_finish_reason='stop')], created=1747684749, model='deepseek/deepseek-chat-v3-0324:free', object='chat.completion', service_tier=None, system_fingerprint=None, usage=CompletionUsage(completion_tokens=471, prompt_tokens=22381, total_tokens=22852, completion_tokens_details=None, prompt_tokens_details=None), provider='Targon')\n",
            "Saved JSON to /content/json_extractions/finaluserprofile.json\n"
          ]
        }
      ]
    },
    {
      "cell_type": "code",
      "source": [],
      "metadata": {
        "id": "yV2g8TwGIO0d"
      },
      "execution_count": null,
      "outputs": []
    }
  ]
}